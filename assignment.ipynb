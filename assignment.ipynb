{
 "metadata": {
  "language_info": {
   "codemirror_mode": {
    "name": "ipython",
    "version": 3
   },
   "file_extension": ".py",
   "mimetype": "text/x-python",
   "name": "python",
   "nbconvert_exporter": "python",
   "pygments_lexer": "ipython3",
   "version": 3
  },
  "orig_nbformat": 2
 },
 "nbformat": 4,
 "nbformat_minor": 2,
 "cells": [
  {
   "source": [
    "\n",
    "# Machine Learning Internship task\n",
    "\n",
    "Welcome folks, Thank you for applying for this internship and we are super excited to take this conversation ahead with you.\n",
    "\n",
    "But before we go ahead, we would like you to go thru a small assessment, which will help us to evaluate you better on technical skills and working styles.\n",
    "\n",
    "\n",
    "## Task Objective :\n",
    "* [ ] Perform EDA on the given [data](https://github.com/geniusai-research/interns_task/blob/main/taskdata.csv).\n",
    "* [ ] Build some new features which makes sense for the learning objective.\n",
    "* [ ] Train any classifier (can be any model of your choice XGB,DNNs, etc) \n",
    "* [ ] Implement SHAP on this model to explain the decisions. (`Bonus points`) \n",
    "* [ ] Submit the task by creating a PR request on this [repository](https://github.com/geniusai-research/interns_task/).\n",
    "\n",
    "## Instructions :\n",
    "* Perform all the tasks mentioned above.\n",
    "* Maintain a single **JupyterNotebook** which has all the descriptions and code in it. \n",
    "* Notebook needs to be properly structured .\n",
    "* Code needs to reproducible.\n",
    "\n",
    "**We will only accept the assignment if its in a single Notebook or else it will be rejected.**\n",
    "\n",
    "## Important dates\n",
    "The assignments needs to be completed in 1 week from today. <br>\n",
    "**Deadline : 28th October**\n",
    "\n",
    "\n",
    "If you have any issue then feel free to create issue on this [repository](https://github.com/geniusai-research/interns_task/) or reachout to us over the internshala chat.\n",
    "\n",
    "<hr>\n",
    "\n",
    "Cheers!!!  <br>\n",
    "RK \n"
   ],
   "cell_type": "markdown",
   "metadata": {}
  },
  {
   "cell_type": "code",
   "execution_count": null,
   "metadata": {},
   "outputs": [],
   "source": []
  }
 ]
}